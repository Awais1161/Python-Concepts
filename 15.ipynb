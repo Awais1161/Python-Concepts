{
 "cells": [
  {
   "cell_type": "code",
   "execution_count": 3,
   "id": "d404e904",
   "metadata": {},
   "outputs": [
    {
     "name": "stdout",
     "output_type": "stream",
     "text": [
      "even\n"
     ]
    }
   ],
   "source": [
    "num=24\n",
    "\n",
    "if num%2==0:\n",
    "    print('even')\n",
    "else:\n",
    "    print('odd')"
   ]
  },
  {
   "cell_type": "code",
   "execution_count": 5,
   "id": "28e7b760",
   "metadata": {},
   "outputs": [],
   "source": [
    "def even_odd(num):\n",
    "    if num%2==0:\n",
    "        print('even')\n",
    "    else:\n",
    "        print('odd')    "
   ]
  },
  {
   "cell_type": "code",
   "execution_count": 6,
   "id": "d46c0f8f",
   "metadata": {},
   "outputs": [
    {
     "name": "stdout",
     "output_type": "stream",
     "text": [
      "even\n"
     ]
    }
   ],
   "source": [
    "even_odd(24)"
   ]
  },
  {
   "cell_type": "code",
   "execution_count": 7,
   "id": "b706aa33",
   "metadata": {},
   "outputs": [
    {
     "ename": "TypeError",
     "evalue": "even_odd() missing 1 required positional argument: 'num'",
     "output_type": "error",
     "traceback": [
      "\u001b[1;31m---------------------------------------------------------------------------\u001b[0m",
      "\u001b[1;31mTypeError\u001b[0m                                 Traceback (most recent call last)",
      "Input \u001b[1;32mIn [7]\u001b[0m, in \u001b[0;36m<cell line: 1>\u001b[1;34m()\u001b[0m\n\u001b[1;32m----> 1\u001b[0m \u001b[43meven_odd\u001b[49m\u001b[43m(\u001b[49m\u001b[43m)\u001b[49m\n",
      "\u001b[1;31mTypeError\u001b[0m: even_odd() missing 1 required positional argument: 'num'"
     ]
    }
   ],
   "source": [
    "even_odd()   # will not work"
   ]
  },
  {
   "cell_type": "markdown",
   "id": "9d6986ef",
   "metadata": {},
   "source": [
    "# Print VS Return"
   ]
  },
  {
   "cell_type": "code",
   "execution_count": 12,
   "id": "73dc4771",
   "metadata": {},
   "outputs": [],
   "source": [
    "def hellow_world():\n",
    "    print('hellow welcome')\n",
    "    hellow_world()  # no output"
   ]
  },
  {
   "cell_type": "code",
   "execution_count": 13,
   "id": "1a71406a",
   "metadata": {},
   "outputs": [
    {
     "name": "stdout",
     "output_type": "stream",
     "text": [
      "hellow welcome\n"
     ]
    }
   ],
   "source": [
    "def hellow_world():\n",
    "    print('hellow welcome')\n",
    "hellow_world()"
   ]
  },
  {
   "cell_type": "code",
   "execution_count": 22,
   "id": "16e918dc",
   "metadata": {},
   "outputs": [
    {
     "name": "stdout",
     "output_type": "stream",
     "text": [
      "hellow welcome\n",
      "None\n"
     ]
    }
   ],
   "source": [
    "def hellow_world():\n",
    "    print('hellow welcome')\n",
    "\n",
    "val=hellow_world()\n",
    "\n",
    "print(val)"
   ]
  },
  {
   "cell_type": "code",
   "execution_count": 23,
   "id": "d6609e09",
   "metadata": {},
   "outputs": [
    {
     "name": "stdout",
     "output_type": "stream",
     "text": [
      "hellow welcome\n"
     ]
    }
   ],
   "source": [
    "def hellow_world():\n",
    "    return 'hellow welcome'\n",
    "\n",
    "val=hellow_world()\n",
    "\n",
    "print(val)"
   ]
  },
  {
   "cell_type": "code",
   "execution_count": 58,
   "id": "d4a53aa2",
   "metadata": {},
   "outputs": [
    {
     "data": {
      "text/plain": [
       "'hellow welcome'"
      ]
     },
     "execution_count": 58,
     "metadata": {},
     "output_type": "execute_result"
    }
   ],
   "source": [
    "def hellow_world():\n",
    "    return 'hellow welcome'\n",
    "\n",
    "val=hellow_world()\n",
    "\n",
    "val"
   ]
  },
  {
   "cell_type": "code",
   "execution_count": null,
   "id": "f6b6a1d6",
   "metadata": {},
   "outputs": [],
   "source": [
    "# return is used when a function is returning something back after it is getting executed"
   ]
  },
  {
   "cell_type": "code",
   "execution_count": 25,
   "id": "bbad40c7",
   "metadata": {},
   "outputs": [
    {
     "data": {
      "text/plain": [
       "22"
      ]
     },
     "execution_count": 25,
     "metadata": {},
     "output_type": "execute_result"
    }
   ],
   "source": [
    "def add_number(a,b):\n",
    "    return a+b\n",
    "val=add_number(10,12)\n",
    "val"
   ]
  },
  {
   "cell_type": "code",
   "execution_count": 27,
   "id": "1b9030cd",
   "metadata": {},
   "outputs": [
    {
     "ename": "TypeError",
     "evalue": "hellow() missing 1 required positional argument: 'name'",
     "output_type": "error",
     "traceback": [
      "\u001b[1;31m---------------------------------------------------------------------------\u001b[0m",
      "\u001b[1;31mTypeError\u001b[0m                                 Traceback (most recent call last)",
      "Input \u001b[1;32mIn [27]\u001b[0m, in \u001b[0;36m<cell line: 3>\u001b[1;34m()\u001b[0m\n\u001b[0;32m      1\u001b[0m \u001b[38;5;28;01mdef\u001b[39;00m \u001b[38;5;21mhellow\u001b[39m(name,age\u001b[38;5;241m=\u001b[39m\u001b[38;5;241m29\u001b[39m):\n\u001b[0;32m      2\u001b[0m     \u001b[38;5;28mprint\u001b[39m(\u001b[38;5;124m'\u001b[39m\u001b[38;5;124mMy name is \u001b[39m\u001b[38;5;132;01m{}\u001b[39;00m\u001b[38;5;124m and age is \u001b[39m\u001b[38;5;132;01m{}\u001b[39;00m\u001b[38;5;124m'\u001b[39m\u001b[38;5;241m.\u001b[39mformat(name,age))\n\u001b[1;32m----> 3\u001b[0m \u001b[43mhellow\u001b[49m\u001b[43m(\u001b[49m\u001b[43m)\u001b[49m\n",
      "\u001b[1;31mTypeError\u001b[0m: hellow() missing 1 required positional argument: 'name'"
     ]
    }
   ],
   "source": [
    "def hellow(name,age=29):\n",
    "    print('My name is {} and age is {}'.format(name,age))\n",
    "hellow()  # not work"
   ]
  },
  {
   "cell_type": "code",
   "execution_count": 28,
   "id": "8d320ec4",
   "metadata": {},
   "outputs": [
    {
     "name": "stdout",
     "output_type": "stream",
     "text": [
      "My name is Ali and age is 29\n"
     ]
    }
   ],
   "source": [
    "def hellow(name,age=29):\n",
    "    print('My name is {} and age is {}'.format(name,age))\n",
    "hellow('Ali')"
   ]
  },
  {
   "cell_type": "code",
   "execution_count": 67,
   "id": "5b2c84de",
   "metadata": {},
   "outputs": [
    {
     "name": "stdout",
     "output_type": "stream",
     "text": [
      "My name\n"
     ]
    }
   ],
   "source": [
    "def hellow(name,age=29):\n",
    "    print('My name')\n",
    "hellow('Ali')"
   ]
  },
  {
   "cell_type": "code",
   "execution_count": null,
   "id": "89e2d453",
   "metadata": {},
   "outputs": [],
   "source": [
    "# any parameter without value like name is positional argument and age is keyword argument because of value 29"
   ]
  },
  {
   "cell_type": "code",
   "execution_count": 29,
   "id": "384d3dab",
   "metadata": {},
   "outputs": [
    {
     "ename": "TypeError",
     "evalue": "hellow() missing 1 required positional argument: 'age'",
     "output_type": "error",
     "traceback": [
      "\u001b[1;31m---------------------------------------------------------------------------\u001b[0m",
      "\u001b[1;31mTypeError\u001b[0m                                 Traceback (most recent call last)",
      "Input \u001b[1;32mIn [29]\u001b[0m, in \u001b[0;36m<cell line: 3>\u001b[1;34m()\u001b[0m\n\u001b[0;32m      1\u001b[0m \u001b[38;5;28;01mdef\u001b[39;00m \u001b[38;5;21mhellow\u001b[39m(name,age):   \u001b[38;5;66;03m# now both are positional arguments\u001b[39;00m\n\u001b[0;32m      2\u001b[0m     \u001b[38;5;28mprint\u001b[39m(\u001b[38;5;124m'\u001b[39m\u001b[38;5;124mMy name is \u001b[39m\u001b[38;5;132;01m{}\u001b[39;00m\u001b[38;5;124m and age is \u001b[39m\u001b[38;5;132;01m{}\u001b[39;00m\u001b[38;5;124m'\u001b[39m\u001b[38;5;241m.\u001b[39mformat(name,age))\n\u001b[1;32m----> 3\u001b[0m \u001b[43mhellow\u001b[49m\u001b[43m(\u001b[49m\u001b[38;5;124;43m'\u001b[39;49m\u001b[38;5;124;43mAli\u001b[39;49m\u001b[38;5;124;43m'\u001b[39;49m\u001b[43m)\u001b[49m\n",
      "\u001b[1;31mTypeError\u001b[0m: hellow() missing 1 required positional argument: 'age'"
     ]
    }
   ],
   "source": [
    "def hellow(name,age):   # now both are positional arguments\n",
    "    print('My name is {} and age is {}'.format(name,age))\n",
    "hellow('Ali')"
   ]
  },
  {
   "cell_type": "code",
   "execution_count": 32,
   "id": "54f1fb27",
   "metadata": {},
   "outputs": [
    {
     "data": {
      "text/plain": [
       "<function __main__.hello(*args, **kwargs)>"
      ]
     },
     "execution_count": 32,
     "metadata": {},
     "output_type": "execute_result"
    }
   ],
   "source": [
    "def hello(*args,**kwargs):\n",
    "    print(args)\n",
    "    print(kwargs)\n",
    "hello   \n",
    "    "
   ]
  },
  {
   "cell_type": "code",
   "execution_count": 33,
   "id": "851765cd",
   "metadata": {},
   "outputs": [
    {
     "name": "stdout",
     "output_type": "stream",
     "text": [
      "()\n",
      "{}\n"
     ]
    }
   ],
   "source": [
    "def hello(*args,**kwargs):\n",
    "    print(args)\n",
    "    print(kwargs)\n",
    "hello() "
   ]
  },
  {
   "cell_type": "code",
   "execution_count": 73,
   "id": "13020df2",
   "metadata": {},
   "outputs": [
    {
     "name": "stdout",
     "output_type": "stream",
     "text": [
      "('Ali',)\n",
      "{}\n"
     ]
    }
   ],
   "source": [
    "def hello(*args,**kwargs):\n",
    "    print(args)\n",
    "    print(kwargs)\n",
    "hello('Ali')"
   ]
  },
  {
   "cell_type": "code",
   "execution_count": 36,
   "id": "1939f22f",
   "metadata": {},
   "outputs": [
    {
     "name": "stdout",
     "output_type": "stream",
     "text": [
      "('Ali', 'Akbar')\n",
      "{}\n"
     ]
    }
   ],
   "source": [
    "def hello(*args,**kwargs):\n",
    "    print(args)\n",
    "    print(kwargs)\n",
    "hello('Ali', 'Akbar')"
   ]
  },
  {
   "cell_type": "code",
   "execution_count": 37,
   "id": "89d6589d",
   "metadata": {},
   "outputs": [
    {
     "name": "stdout",
     "output_type": "stream",
     "text": [
      "('Ali', 'Akbar')\n",
      "{'age': 29}\n"
     ]
    }
   ],
   "source": [
    "def hello(*args,**kwargs):\n",
    "    print(args)\n",
    "    print(kwargs)\n",
    "hello('Ali', 'Akbar',age=29)"
   ]
  },
  {
   "cell_type": "code",
   "execution_count": 38,
   "id": "03fd8ea7",
   "metadata": {},
   "outputs": [
    {
     "name": "stdout",
     "output_type": "stream",
     "text": [
      "('Ali', 'Akbar')\n",
      "{'age': 29, 'dob': 1990}\n"
     ]
    }
   ],
   "source": [
    "def hello(*args,**kwargs):\n",
    "    print(args)\n",
    "    print(kwargs)\n",
    "hello('Ali', 'Akbar',age=29, dob=1990)"
   ]
  },
  {
   "cell_type": "code",
   "execution_count": 40,
   "id": "073a955e",
   "metadata": {},
   "outputs": [
    {
     "name": "stdout",
     "output_type": "stream",
     "text": [
      "('Ali', 'Akbar', 'Aslam', 'Arshad')\n",
      "{'age': 29, 'dob': 1990}\n"
     ]
    }
   ],
   "source": [
    "def hello(*args,**kwargs):\n",
    "    print(args)\n",
    "    print(kwargs)\n",
    "hello('Ali', 'Akbar','Aslam', 'Arshad',age=29, dob=1990)"
   ]
  },
  {
   "cell_type": "code",
   "execution_count": 45,
   "id": "268cfbf0",
   "metadata": {},
   "outputs": [
    {
     "name": "stdout",
     "output_type": "stream",
     "text": [
      "('Ali', 'Akbar', 'Aslam', 'Arshad')\n",
      "{'age': 29, 'dob': 1990, 'doc': 14, 'abc': 44}\n"
     ]
    }
   ],
   "source": [
    "def hello(*args,**kwargs):\n",
    "    print(args)\n",
    "    print(kwargs)\n",
    "hello('Ali', 'Akbar','Aslam', 'Arshad',age=29, dob=1990, doc=14, abc=44)"
   ]
  },
  {
   "cell_type": "code",
   "execution_count": 47,
   "id": "67303b5a",
   "metadata": {},
   "outputs": [],
   "source": [
    "lst=['Ali', 'Akbar']\n",
    "dict_args={'age':29, 'dob':1990}"
   ]
  },
  {
   "cell_type": "code",
   "execution_count": 48,
   "id": "55bac5b3",
   "metadata": {},
   "outputs": [
    {
     "name": "stdout",
     "output_type": "stream",
     "text": [
      "()\n",
      "{}\n"
     ]
    }
   ],
   "source": [
    "hello()"
   ]
  },
  {
   "cell_type": "code",
   "execution_count": 52,
   "id": "2acf105e",
   "metadata": {},
   "outputs": [
    {
     "name": "stdout",
     "output_type": "stream",
     "text": [
      "(['Ali', 'Akbar'],)\n",
      "{}\n"
     ]
    }
   ],
   "source": [
    "hello(lst)"
   ]
  },
  {
   "cell_type": "code",
   "execution_count": 53,
   "id": "038685fc",
   "metadata": {},
   "outputs": [
    {
     "name": "stdout",
     "output_type": "stream",
     "text": [
      "(['Ali', 'Akbar'], {'age': 29, 'dob': 1990})\n",
      "{}\n"
     ]
    }
   ],
   "source": [
    "hello(lst,dict_args)"
   ]
  },
  {
   "cell_type": "code",
   "execution_count": 54,
   "id": "aadaf2fd",
   "metadata": {},
   "outputs": [
    {
     "name": "stdout",
     "output_type": "stream",
     "text": [
      "('Ali', 'Akbar')\n",
      "{'age': 29, 'dob': 1990}\n"
     ]
    }
   ],
   "source": [
    "hello(*lst,**dict_args)"
   ]
  },
  {
   "cell_type": "code",
   "execution_count": 56,
   "id": "f485f868",
   "metadata": {},
   "outputs": [],
   "source": [
    "list=[1,2,3,4,5,6,7,8,9]\n",
    "\n",
    "def evenoddsum(list):\n",
    "    even_sum=0\n",
    "    odd_sum=0\n",
    "    for i in list:\n",
    "        if i%2==0:\n",
    "            even_sum=even_sum+i\n",
    "        else:\n",
    "            odd_sum=odd_sum+i\n",
    "    return even_sum,odd_sum\n",
    "        "
   ]
  },
  {
   "cell_type": "code",
   "execution_count": 57,
   "id": "f6d19331",
   "metadata": {},
   "outputs": [
    {
     "data": {
      "text/plain": [
       "(20, 25)"
      ]
     },
     "execution_count": 57,
     "metadata": {},
     "output_type": "execute_result"
    }
   ],
   "source": [
    "evenoddsum(list)"
   ]
  },
  {
   "cell_type": "code",
   "execution_count": 2,
   "id": "f7e9b0a5",
   "metadata": {},
   "outputs": [
    {
     "data": {
      "text/plain": [
       "30"
      ]
     },
     "execution_count": 2,
     "metadata": {},
     "output_type": "execute_result"
    }
   ],
   "source": [
    "a=10\n",
    "b=20\n",
    "a+b"
   ]
  },
  {
   "cell_type": "code",
   "execution_count": 3,
   "id": "d6c96256",
   "metadata": {},
   "outputs": [
    {
     "name": "stdout",
     "output_type": "stream",
     "text": [
      "30\n"
     ]
    }
   ],
   "source": [
    "a=10\n",
    "b=20\n",
    "print(a+b)"
   ]
  },
  {
   "cell_type": "code",
   "execution_count": null,
   "id": "6d126403",
   "metadata": {},
   "outputs": [],
   "source": []
  },
  {
   "cell_type": "code",
   "execution_count": null,
   "id": "ce5b8728",
   "metadata": {},
   "outputs": [],
   "source": []
  },
  {
   "cell_type": "code",
   "execution_count": null,
   "id": "29c57ac5",
   "metadata": {},
   "outputs": [],
   "source": []
  }
 ],
 "metadata": {
  "kernelspec": {
   "display_name": "Python 3 (ipykernel)",
   "language": "python",
   "name": "python3"
  },
  "language_info": {
   "codemirror_mode": {
    "name": "ipython",
    "version": 3
   },
   "file_extension": ".py",
   "mimetype": "text/x-python",
   "name": "python",
   "nbconvert_exporter": "python",
   "pygments_lexer": "ipython3",
   "version": "3.9.12"
  }
 },
 "nbformat": 4,
 "nbformat_minor": 5
}
