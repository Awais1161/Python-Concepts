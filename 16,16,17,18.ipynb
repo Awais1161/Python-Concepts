{
 "cells": [
  {
   "cell_type": "markdown",
   "id": "22fb3f6d",
   "metadata": {},
   "source": [
    "# Lambda Function\n",
    "Anonymus Function"
   ]
  },
  {
   "cell_type": "code",
   "execution_count": 3,
   "id": "6b73840d",
   "metadata": {},
   "outputs": [
    {
     "data": {
      "text/plain": [
       "9"
      ]
     },
     "execution_count": 3,
     "metadata": {},
     "output_type": "execute_result"
    }
   ],
   "source": [
    "def addition(a,b):\n",
    "    return a+b\n",
    "addition(4,5)"
   ]
  },
  {
   "cell_type": "code",
   "execution_count": 4,
   "id": "4645f263",
   "metadata": {},
   "outputs": [
    {
     "data": {
      "text/plain": [
       "9"
      ]
     },
     "execution_count": 4,
     "metadata": {},
     "output_type": "execute_result"
    }
   ],
   "source": [
    "addition=lambda a,b:a+b\n",
    "addition(4,5)"
   ]
  },
  {
   "cell_type": "code",
   "execution_count": 8,
   "id": "90279e7b",
   "metadata": {},
   "outputs": [
    {
     "data": {
      "text/plain": [
       "True"
      ]
     },
     "execution_count": 8,
     "metadata": {},
     "output_type": "execute_result"
    }
   ],
   "source": [
    "def even(num):\n",
    "    if num%2==0:\n",
    "        return True\n",
    "even(6)    "
   ]
  },
  {
   "cell_type": "code",
   "execution_count": 9,
   "id": "e07b398f",
   "metadata": {},
   "outputs": [
    {
     "data": {
      "text/plain": [
       "'even'"
      ]
     },
     "execution_count": 9,
     "metadata": {},
     "output_type": "execute_result"
    }
   ],
   "source": [
    "def even(num):\n",
    "    if num%2==0:\n",
    "        return 'even'\n",
    "even(6)"
   ]
  },
  {
   "cell_type": "code",
   "execution_count": 10,
   "id": "f8b06934",
   "metadata": {},
   "outputs": [
    {
     "data": {
      "text/plain": [
       "True"
      ]
     },
     "execution_count": 10,
     "metadata": {},
     "output_type": "execute_result"
    }
   ],
   "source": [
    "even1=lambda a: a%2==0 \n",
    "even1(6)\n"
   ]
  },
  {
   "cell_type": "code",
   "execution_count": 11,
   "id": "3b672bdd",
   "metadata": {},
   "outputs": [
    {
     "data": {
      "text/plain": [
       "9"
      ]
     },
     "execution_count": 11,
     "metadata": {},
     "output_type": "execute_result"
    }
   ],
   "source": [
    "def addition (x,y,z):\n",
    "    return x+y+z\n",
    "addition(2,3,4)"
   ]
  },
  {
   "cell_type": "code",
   "execution_count": 12,
   "id": "854953cd",
   "metadata": {},
   "outputs": [
    {
     "data": {
      "text/plain": [
       "9"
      ]
     },
     "execution_count": 12,
     "metadata": {},
     "output_type": "execute_result"
    }
   ],
   "source": [
    "add=lambda x,y,z: x+y+z\n",
    "add(2,3,4)"
   ]
  },
  {
   "cell_type": "markdown",
   "id": "5f5192bc",
   "metadata": {},
   "source": [
    "# List Comprehension"
   ]
  },
  {
   "cell_type": "code",
   "execution_count": 29,
   "id": "43520bf3",
   "metadata": {},
   "outputs": [],
   "source": [
    "lst=[1,2,3,4,5,6]"
   ]
  },
  {
   "cell_type": "code",
   "execution_count": 14,
   "id": "beffda96",
   "metadata": {},
   "outputs": [
    {
     "data": {
      "text/plain": [
       "list"
      ]
     },
     "execution_count": 14,
     "metadata": {},
     "output_type": "execute_result"
    }
   ],
   "source": [
    "type(lst)"
   ]
  },
  {
   "cell_type": "code",
   "execution_count": 15,
   "id": "2bde8d93",
   "metadata": {},
   "outputs": [],
   "source": [
    "lst_1=list()"
   ]
  },
  {
   "cell_type": "code",
   "execution_count": 16,
   "id": "3f7e610c",
   "metadata": {},
   "outputs": [
    {
     "data": {
      "text/plain": [
       "list"
      ]
     },
     "execution_count": 16,
     "metadata": {},
     "output_type": "execute_result"
    }
   ],
   "source": [
    "type(lst_1)"
   ]
  },
  {
   "cell_type": "code",
   "execution_count": 31,
   "id": "2b203685",
   "metadata": {},
   "outputs": [
    {
     "name": "stdout",
     "output_type": "stream",
     "text": [
      "[1, 2, 3, 4, 5, 6]\n"
     ]
    }
   ],
   "source": [
    "new_lst=[]\n",
    "for i in lst:\n",
    "    new_lst.append(i)\n",
    "print(new_lst)"
   ]
  },
  {
   "cell_type": "code",
   "execution_count": 44,
   "id": "bce117c5",
   "metadata": {},
   "outputs": [
    {
     "data": {
      "text/plain": [
       "[1, 2, 3, 4, 5, 6]"
      ]
     },
     "execution_count": 44,
     "metadata": {},
     "output_type": "execute_result"
    }
   ],
   "source": [
    "[i for i in lst]"
   ]
  },
  {
   "cell_type": "code",
   "execution_count": 45,
   "id": "46b37048",
   "metadata": {},
   "outputs": [
    {
     "name": "stdout",
     "output_type": "stream",
     "text": [
      "[2, 4, 6]\n"
     ]
    }
   ],
   "source": [
    "new_lst=[]\n",
    "for i in lst:\n",
    "    if i%2==0:\n",
    "       new_lst.append(i)\n",
    "print(new_lst) "
   ]
  },
  {
   "cell_type": "code",
   "execution_count": 46,
   "id": "e45d95c0",
   "metadata": {},
   "outputs": [
    {
     "data": {
      "text/plain": [
       "[2, 4, 6]"
      ]
     },
     "execution_count": 46,
     "metadata": {},
     "output_type": "execute_result"
    }
   ],
   "source": [
    "[ i for i in lst if i%2==0]"
   ]
  },
  {
   "cell_type": "markdown",
   "id": "67462271",
   "metadata": {},
   "source": [
    "# Map Function"
   ]
  },
  {
   "cell_type": "code",
   "execution_count": 48,
   "id": "9f4f6c65",
   "metadata": {},
   "outputs": [
    {
     "data": {
      "text/plain": [
       "'Odd'"
      ]
     },
     "execution_count": 48,
     "metadata": {},
     "output_type": "execute_result"
    }
   ],
   "source": [
    "def even_or_odd(num):\n",
    "    if num%2==0:\n",
    "        return 'Even'\n",
    "    else:\n",
    "        return 'Odd'\n",
    "even_or_odd(25)"
   ]
  },
  {
   "cell_type": "code",
   "execution_count": 50,
   "id": "55dd8f4d",
   "metadata": {},
   "outputs": [
    {
     "data": {
      "text/plain": [
       "'The number 25 is Odd'"
      ]
     },
     "execution_count": 50,
     "metadata": {},
     "output_type": "execute_result"
    }
   ],
   "source": [
    "def even_or_odd(num):\n",
    "    if num%2==0:\n",
    "        return 'The number {} is Even'.format(num)\n",
    "    else:\n",
    "        return 'The number {} is Odd'.format(num)\n",
    "even_or_odd(25)"
   ]
  },
  {
   "cell_type": "code",
   "execution_count": 2,
   "id": "2c9fc6ab",
   "metadata": {},
   "outputs": [],
   "source": [
    "lst=[1,2,3,4,5,6,13,24,34,23,35]"
   ]
  },
  {
   "cell_type": "code",
   "execution_count": 120,
   "id": "b0ba535c",
   "metadata": {},
   "outputs": [
    {
     "ename": "TypeError",
     "evalue": "'type' object is not iterable",
     "output_type": "error",
     "traceback": [
      "\u001b[1;31m---------------------------------------------------------------------------\u001b[0m",
      "\u001b[1;31mTypeError\u001b[0m                                 Traceback (most recent call last)",
      "Input \u001b[1;32mIn [120]\u001b[0m, in \u001b[0;36m<cell line: 7>\u001b[1;34m()\u001b[0m\n\u001b[0;32m      5\u001b[0m         \u001b[38;5;28;01melse\u001b[39;00m:\n\u001b[0;32m      6\u001b[0m             \u001b[38;5;28;01mreturn\u001b[39;00m \u001b[38;5;124m'\u001b[39m\u001b[38;5;124mThe number \u001b[39m\u001b[38;5;132;01m{}\u001b[39;00m\u001b[38;5;124m is Odd\u001b[39m\u001b[38;5;124m'\u001b[39m\u001b[38;5;241m.\u001b[39mformat(num)\n\u001b[1;32m----> 7\u001b[0m \u001b[43meven_or_odd\u001b[49m\u001b[43m(\u001b[49m\u001b[43m[\u001b[49m\u001b[38;5;241;43m12\u001b[39;49m\u001b[43m,\u001b[49m\u001b[38;5;241;43m13\u001b[39;49m\u001b[43m,\u001b[49m\u001b[38;5;241;43m14\u001b[39;49m\u001b[43m,\u001b[49m\u001b[38;5;241;43m15\u001b[39;49m\u001b[43m,\u001b[49m\u001b[38;5;241;43m16\u001b[39;49m\u001b[43m,\u001b[49m\u001b[38;5;241;43m17\u001b[39;49m\u001b[43m]\u001b[49m\u001b[43m)\u001b[49m\n",
      "Input \u001b[1;32mIn [120]\u001b[0m, in \u001b[0;36meven_or_odd\u001b[1;34m(num)\u001b[0m\n\u001b[0;32m      1\u001b[0m \u001b[38;5;28;01mdef\u001b[39;00m \u001b[38;5;21meven_or_odd\u001b[39m(num):\n\u001b[1;32m----> 2\u001b[0m     \u001b[38;5;28;01mfor\u001b[39;00m num \u001b[38;5;129;01min\u001b[39;00m \u001b[38;5;28mlist\u001b[39m:\n\u001b[0;32m      3\u001b[0m         \u001b[38;5;28;01mif\u001b[39;00m num\u001b[38;5;241m%\u001b[39m\u001b[38;5;241m2\u001b[39m\u001b[38;5;241m==\u001b[39m\u001b[38;5;241m0\u001b[39m:\n\u001b[0;32m      4\u001b[0m             \u001b[38;5;28;01mreturn\u001b[39;00m \u001b[38;5;124m'\u001b[39m\u001b[38;5;124mThe number \u001b[39m\u001b[38;5;132;01m{}\u001b[39;00m\u001b[38;5;124m is Even\u001b[39m\u001b[38;5;124m'\u001b[39m\u001b[38;5;241m.\u001b[39mformat(num)\n",
      "\u001b[1;31mTypeError\u001b[0m: 'type' object is not iterable"
     ]
    }
   ],
   "source": [
    "\n",
    "    def even_or_odd(num):\n",
    "        for num in list:\n",
    "            if num%2==0:\n",
    "                return 'The number {} is Even'.format(num)\n",
    "            else:\n",
    "                return 'The number {} is Odd'.format(num)\n",
    "even_or_odd([12,13,14,15,16,17])"
   ]
  },
  {
   "cell_type": "code",
   "execution_count": 118,
   "id": "d468b4ff",
   "metadata": {},
   "outputs": [
    {
     "data": {
      "text/plain": [
       "'The number 35 is Even'"
      ]
     },
     "execution_count": 118,
     "metadata": {},
     "output_type": "execute_result"
    }
   ],
   "source": [
    "\n",
    "def even_or_odd(lst):\n",
    "    \n",
    "    if len(lst)%2==0:\n",
    "        return 'The number {} is Even'.format(num)\n",
    "    else:\n",
    "        return 'The number {} is Odd'.format(num)\n",
    "even_or_odd([12,13,14,15,16,17])"
   ]
  },
  {
   "cell_type": "code",
   "execution_count": 83,
   "id": "df9f9782",
   "metadata": {},
   "outputs": [
    {
     "data": {
      "text/plain": [
       "10"
      ]
     },
     "execution_count": 83,
     "metadata": {},
     "output_type": "execute_result"
    }
   ],
   "source": [
    "def addition(n):\n",
    "    return n+n\n",
    "addition(5)"
   ]
  },
  {
   "cell_type": "code",
   "execution_count": 5,
   "id": "38705a4c",
   "metadata": {},
   "outputs": [
    {
     "data": {
      "text/plain": [
       "[4, 8, 12, 16]"
      ]
     },
     "execution_count": 5,
     "metadata": {},
     "output_type": "execute_result"
    }
   ],
   "source": [
    "def addition(n):\n",
    "    return n+n\n",
    "lst=[2,4,6,8]\n",
    "result=map(addition,lst)\n",
    "list(result)"
   ]
  },
  {
   "cell_type": "code",
   "execution_count": 6,
   "id": "6f81bed5",
   "metadata": {},
   "outputs": [
    {
     "data": {
      "text/plain": [
       "<map at 0x1c5962be4c0>"
      ]
     },
     "execution_count": 6,
     "metadata": {},
     "output_type": "execute_result"
    }
   ],
   "source": [
    "result"
   ]
  },
  {
   "cell_type": "code",
   "execution_count": 90,
   "id": "bbd78564",
   "metadata": {},
   "outputs": [
    {
     "data": {
      "text/plain": [
       "[4, 8, 12, 16]"
      ]
     },
     "execution_count": 90,
     "metadata": {},
     "output_type": "execute_result"
    }
   ],
   "source": [
    "lst=[2,4,6,8]\n",
    "result=map(lambda x: x+x,lst)\n",
    "list(result)"
   ]
  },
  {
   "cell_type": "markdown",
   "id": "62252579",
   "metadata": {},
   "source": [
    "# Filter Function"
   ]
  },
  {
   "cell_type": "code",
   "execution_count": 105,
   "id": "e86e34c8",
   "metadata": {},
   "outputs": [
    {
     "data": {
      "text/plain": [
       "[2, 4, 6, 8, 12, 14]"
      ]
     },
     "execution_count": 105,
     "metadata": {},
     "output_type": "execute_result"
    }
   ],
   "source": [
    "def even(i):\n",
    "    if i%2==0:\n",
    "        return True\n",
    "lst=[1,2,3,4,5,6,7,8,9,12,13,14,15]\n",
    "list(filter(even,lst))"
   ]
  },
  {
   "cell_type": "code",
   "execution_count": 117,
   "id": "8fcc26d8",
   "metadata": {},
   "outputs": [
    {
     "data": {
      "text/plain": [
       "[1, 3, 5, 7, 9, 13, 15]"
      ]
     },
     "execution_count": 117,
     "metadata": {},
     "output_type": "execute_result"
    }
   ],
   "source": [
    "def odd(i):\n",
    "    if i%2!=0:\n",
    "        return True\n",
    "lst=[1,2,3,4,5,6,7,8,9,12,13,14,15]\n",
    "list(filter(odd,lst))"
   ]
  },
  {
   "cell_type": "code",
   "execution_count": 106,
   "id": "29182dd2",
   "metadata": {},
   "outputs": [
    {
     "data": {
      "text/plain": [
       "[2, 4, 6, 8, 12, 14]"
      ]
     },
     "execution_count": 106,
     "metadata": {},
     "output_type": "execute_result"
    }
   ],
   "source": [
    "list(filter(lambda i: i%2==0,lst))"
   ]
  },
  {
   "cell_type": "code",
   "execution_count": 107,
   "id": "ed766939",
   "metadata": {},
   "outputs": [
    {
     "data": {
      "text/plain": [
       "[False,\n",
       " True,\n",
       " False,\n",
       " True,\n",
       " False,\n",
       " True,\n",
       " False,\n",
       " True,\n",
       " False,\n",
       " True,\n",
       " False,\n",
       " True,\n",
       " False]"
      ]
     },
     "execution_count": 107,
     "metadata": {},
     "output_type": "execute_result"
    }
   ],
   "source": [
    "list(map(lambda i: i%2==0,lst))"
   ]
  },
  {
   "cell_type": "code",
   "execution_count": 114,
   "id": "bd92165c",
   "metadata": {},
   "outputs": [
    {
     "data": {
      "text/plain": [
       "['a', 'e', 'u']"
      ]
     },
     "execution_count": 114,
     "metadata": {},
     "output_type": "execute_result"
    }
   ],
   "source": [
    "vowels=['a','e','i','o','u']\n",
    "def func(x):\n",
    "    if x in vowels:\n",
    "        return True\n",
    "    else:\n",
    "        return False\n",
    "sequence=['a','b','c','e','f','g','s','t','u']\n",
    "list(filter(func,sequence))"
   ]
  },
  {
   "cell_type": "code",
   "execution_count": 115,
   "id": "8eb7031b",
   "metadata": {},
   "outputs": [
    {
     "data": {
      "text/plain": [
       "[True, False, False, True, False, False, False, False, True]"
      ]
     },
     "execution_count": 115,
     "metadata": {},
     "output_type": "execute_result"
    }
   ],
   "source": [
    "vowels=['a','e','i','o','u']\n",
    "def func(x):\n",
    "    if x in vowels:\n",
    "        return True\n",
    "    else:\n",
    "        return False\n",
    "sequence=['a','b','c','e','f','g','s','t','u']\n",
    "list(map(func,sequence))"
   ]
  }
 ],
 "metadata": {
  "kernelspec": {
   "display_name": "Python 3 (ipykernel)",
   "language": "python",
   "name": "python3"
  },
  "language_info": {
   "codemirror_mode": {
    "name": "ipython",
    "version": 3
   },
   "file_extension": ".py",
   "mimetype": "text/x-python",
   "name": "python",
   "nbconvert_exporter": "python",
   "pygments_lexer": "ipython3",
   "version": "3.9.12"
  }
 },
 "nbformat": 4,
 "nbformat_minor": 5
}
