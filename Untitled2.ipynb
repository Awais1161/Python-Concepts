{
 "cells": [
  {
   "cell_type": "code",
   "execution_count": 32,
   "id": "6bf15c1c",
   "metadata": {},
   "outputs": [
    {
     "name": "stdout",
     "output_type": "stream",
     "text": [
      "['customer_name', 'date', 'price', 'product', 'quantity']\n"
     ]
    }
   ],
   "source": [
    "class Supermarket:\n",
    " \n",
    "    # Function __dir()___ which list all\n",
    "    # the base attributes to be used.\n",
    "    def __dir__(self):\n",
    "        return['customer_name', 'product',\n",
    "               'quantity', 'price', 'date']\n",
    " \n",
    " \n",
    "# user-defined object of class supermarket\n",
    "my_cart = Supermarket()\n",
    " \n",
    "# listing out the dir() method\n",
    "print(dir(my_cart))"
   ]
  },
  {
   "cell_type": "code",
   "execution_count": 33,
   "id": "a8cdae8e",
   "metadata": {},
   "outputs": [
    {
     "name": "stdout",
     "output_type": "stream",
     "text": [
      "['__class__', '__delattr__', '__dict__', '__dir__', '__doc__', '__eq__', '__format__', '__ge__', '__getattribute__', '__gt__', '__hash__', '__init__', '__init_subclass__', '__le__', '__lt__', '__module__', '__ne__', '__new__', '__reduce__', '__reduce_ex__', '__repr__', '__setattr__', '__sizeof__', '__str__', '__subclasshook__', '__weakref__']\n"
     ]
    }
   ],
   "source": [
    "print(dir(Supermarket))"
   ]
  },
  {
   "cell_type": "code",
   "execution_count": 17,
   "id": "c8300d9f",
   "metadata": {},
   "outputs": [
    {
     "name": "stdout",
     "output_type": "stream",
     "text": [
      "['customer_name', 'date', 'price', 'product', 'quantity']\n"
     ]
    }
   ],
   "source": [
    "print(dir(my_cart))"
   ]
  },
  {
   "cell_type": "code",
   "execution_count": 29,
   "id": "66bc6d73",
   "metadata": {},
   "outputs": [],
   "source": [
    "class car:\n",
    "    def __dir__(self):\n",
    "        return ['door,window,engine']\n",
    "my_car=car()"
   ]
  },
  {
   "cell_type": "code",
   "execution_count": 30,
   "id": "ae22f263",
   "metadata": {},
   "outputs": [
    {
     "data": {
      "text/plain": [
       "['door,window,engine']"
      ]
     },
     "execution_count": 30,
     "metadata": {},
     "output_type": "execute_result"
    }
   ],
   "source": [
    "dir(my_car)"
   ]
  },
  {
   "cell_type": "code",
   "execution_count": 31,
   "id": "4dbe7c70",
   "metadata": {},
   "outputs": [
    {
     "data": {
      "text/plain": [
       "['__class__',\n",
       " '__delattr__',\n",
       " '__dict__',\n",
       " '__dir__',\n",
       " '__doc__',\n",
       " '__eq__',\n",
       " '__format__',\n",
       " '__ge__',\n",
       " '__getattribute__',\n",
       " '__gt__',\n",
       " '__hash__',\n",
       " '__init__',\n",
       " '__init_subclass__',\n",
       " '__le__',\n",
       " '__lt__',\n",
       " '__module__',\n",
       " '__ne__',\n",
       " '__new__',\n",
       " '__reduce__',\n",
       " '__reduce_ex__',\n",
       " '__repr__',\n",
       " '__setattr__',\n",
       " '__sizeof__',\n",
       " '__str__',\n",
       " '__subclasshook__',\n",
       " '__weakref__']"
      ]
     },
     "execution_count": 31,
     "metadata": {},
     "output_type": "execute_result"
    }
   ],
   "source": [
    "dir(car)"
   ]
  },
  {
   "cell_type": "code",
   "execution_count": null,
   "id": "d59502de",
   "metadata": {},
   "outputs": [],
   "source": []
  }
 ],
 "metadata": {
  "kernelspec": {
   "display_name": "Python 3 (ipykernel)",
   "language": "python",
   "name": "python3"
  },
  "language_info": {
   "codemirror_mode": {
    "name": "ipython",
    "version": 3
   },
   "file_extension": ".py",
   "mimetype": "text/x-python",
   "name": "python",
   "nbconvert_exporter": "python",
   "pygments_lexer": "ipython3",
   "version": "3.9.12"
  }
 },
 "nbformat": 4,
 "nbformat_minor": 5
}
