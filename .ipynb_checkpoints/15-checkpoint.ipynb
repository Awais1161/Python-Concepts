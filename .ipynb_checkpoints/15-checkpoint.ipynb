{
 "cells": [
  {
   "cell_type": "code",
   "execution_count": 3,
   "id": "ffa53501",
   "metadata": {},
   "outputs": [
    {
     "name": "stdout",
     "output_type": "stream",
     "text": [
      "even\n"
     ]
    }
   ],
   "source": [
    "num=24\n",
    "\n",
    "if num%2==0:\n",
    "    print('even')\n",
    "else:\n",
    "    print('odd')"
   ]
  },
  {
   "cell_type": "code",
   "execution_count": 5,
   "id": "db6f06b9",
   "metadata": {},
   "outputs": [],
   "source": [
    "def even_odd(num):\n",
    "    if num%2==0:\n",
    "        print('even')\n",
    "    else:\n",
    "        print('odd')    "
   ]
  },
  {
   "cell_type": "code",
   "execution_count": 6,
   "id": "bb45c3f7",
   "metadata": {},
   "outputs": [
    {
     "name": "stdout",
     "output_type": "stream",
     "text": [
      "even\n"
     ]
    }
   ],
   "source": [
    "even_odd(24)"
   ]
  },
  {
   "cell_type": "code",
   "execution_count": 7,
   "id": "9ce83418",
   "metadata": {},
   "outputs": [
    {
     "ename": "TypeError",
     "evalue": "even_odd() missing 1 required positional argument: 'num'",
     "output_type": "error",
     "traceback": [
      "\u001b[1;31m---------------------------------------------------------------------------\u001b[0m",
      "\u001b[1;31mTypeError\u001b[0m                                 Traceback (most recent call last)",
      "Input \u001b[1;32mIn [7]\u001b[0m, in \u001b[0;36m<cell line: 1>\u001b[1;34m()\u001b[0m\n\u001b[1;32m----> 1\u001b[0m \u001b[43meven_odd\u001b[49m\u001b[43m(\u001b[49m\u001b[43m)\u001b[49m\n",
      "\u001b[1;31mTypeError\u001b[0m: even_odd() missing 1 required positional argument: 'num'"
     ]
    }
   ],
   "source": [
    "even_odd()   # will not work"
   ]
  },
  {
   "cell_type": "markdown",
   "id": "b2cf96df",
   "metadata": {},
   "source": [
    "# Print VS Return"
   ]
  },
  {
   "cell_type": "code",
   "execution_count": 12,
   "id": "8099b698",
   "metadata": {},
   "outputs": [],
   "source": [
    "def hellow_world():\n",
    "    print('hellow welcome')\n",
    "    hellow_world()  # no output"
   ]
  },
  {
   "cell_type": "code",
   "execution_count": 13,
   "id": "12d35587",
   "metadata": {},
   "outputs": [
    {
     "name": "stdout",
     "output_type": "stream",
     "text": [
      "hellow welcome\n"
     ]
    }
   ],
   "source": [
    "def hellow_world():\n",
    "    print('hellow welcome')\n",
    "hellow_world()"
   ]
  },
  {
   "cell_type": "code",
   "execution_count": 22,
   "id": "b92b0738",
   "metadata": {},
   "outputs": [
    {
     "name": "stdout",
     "output_type": "stream",
     "text": [
      "hellow welcome\n",
      "None\n"
     ]
    }
   ],
   "source": [
    "def hellow_world():\n",
    "    print('hellow welcome')\n",
    "\n",
    "val=hellow_world()\n",
    "\n",
    "print(val)"
   ]
  },
  {
   "cell_type": "code",
   "execution_count": 23,
   "id": "0df04cbb",
   "metadata": {},
   "outputs": [
    {
     "name": "stdout",
     "output_type": "stream",
     "text": [
      "hellow welcome\n"
     ]
    }
   ],
   "source": [
    "def hellow_world():\n",
    "    return 'hellow welcome'\n",
    "\n",
    "val=hellow_world()\n",
    "\n",
    "print(val)"
   ]
  },
  {
   "cell_type": "code",
   "execution_count": null,
   "id": "21287617",
   "metadata": {},
   "outputs": [],
   "source": [
    "# return is used when a function is returning something back after it is getting executed"
   ]
  },
  {
   "cell_type": "code",
   "execution_count": 25,
   "id": "3d14443e",
   "metadata": {},
   "outputs": [
    {
     "data": {
      "text/plain": [
       "22"
      ]
     },
     "execution_count": 25,
     "metadata": {},
     "output_type": "execute_result"
    }
   ],
   "source": [
    "def add_number(a,b):\n",
    "    return a+b\n",
    "val=add_number(10,12)\n",
    "val"
   ]
  },
  {
   "cell_type": "code",
   "execution_count": 27,
   "id": "6c1834e8",
   "metadata": {},
   "outputs": [
    {
     "ename": "TypeError",
     "evalue": "hellow() missing 1 required positional argument: 'name'",
     "output_type": "error",
     "traceback": [
      "\u001b[1;31m---------------------------------------------------------------------------\u001b[0m",
      "\u001b[1;31mTypeError\u001b[0m                                 Traceback (most recent call last)",
      "Input \u001b[1;32mIn [27]\u001b[0m, in \u001b[0;36m<cell line: 3>\u001b[1;34m()\u001b[0m\n\u001b[0;32m      1\u001b[0m \u001b[38;5;28;01mdef\u001b[39;00m \u001b[38;5;21mhellow\u001b[39m(name,age\u001b[38;5;241m=\u001b[39m\u001b[38;5;241m29\u001b[39m):\n\u001b[0;32m      2\u001b[0m     \u001b[38;5;28mprint\u001b[39m(\u001b[38;5;124m'\u001b[39m\u001b[38;5;124mMy name is \u001b[39m\u001b[38;5;132;01m{}\u001b[39;00m\u001b[38;5;124m and age is \u001b[39m\u001b[38;5;132;01m{}\u001b[39;00m\u001b[38;5;124m'\u001b[39m\u001b[38;5;241m.\u001b[39mformat(name,age))\n\u001b[1;32m----> 3\u001b[0m \u001b[43mhellow\u001b[49m\u001b[43m(\u001b[49m\u001b[43m)\u001b[49m\n",
      "\u001b[1;31mTypeError\u001b[0m: hellow() missing 1 required positional argument: 'name'"
     ]
    }
   ],
   "source": [
    "def hellow(name,age=29):\n",
    "    print('My name is {} and age is {}'.format(name,age))\n",
    "hellow()  # not work"
   ]
  },
  {
   "cell_type": "code",
   "execution_count": 28,
   "id": "9fbe0206",
   "metadata": {},
   "outputs": [
    {
     "name": "stdout",
     "output_type": "stream",
     "text": [
      "My name is Ali and age is 29\n"
     ]
    }
   ],
   "source": [
    "def hellow(name,age=29):\n",
    "    print('My name is {} and age is {}'.format(name,age))\n",
    "hellow('Ali')"
   ]
  },
  {
   "cell_type": "code",
   "execution_count": null,
   "id": "4816afa4",
   "metadata": {},
   "outputs": [],
   "source": [
    "# any parameter without value like name is positional argument and age is keyword argument because of value 29"
   ]
  },
  {
   "cell_type": "code",
   "execution_count": 29,
   "id": "0a604e3f",
   "metadata": {},
   "outputs": [
    {
     "ename": "TypeError",
     "evalue": "hellow() missing 1 required positional argument: 'age'",
     "output_type": "error",
     "traceback": [
      "\u001b[1;31m---------------------------------------------------------------------------\u001b[0m",
      "\u001b[1;31mTypeError\u001b[0m                                 Traceback (most recent call last)",
      "Input \u001b[1;32mIn [29]\u001b[0m, in \u001b[0;36m<cell line: 3>\u001b[1;34m()\u001b[0m\n\u001b[0;32m      1\u001b[0m \u001b[38;5;28;01mdef\u001b[39;00m \u001b[38;5;21mhellow\u001b[39m(name,age):   \u001b[38;5;66;03m# now both are positional arguments\u001b[39;00m\n\u001b[0;32m      2\u001b[0m     \u001b[38;5;28mprint\u001b[39m(\u001b[38;5;124m'\u001b[39m\u001b[38;5;124mMy name is \u001b[39m\u001b[38;5;132;01m{}\u001b[39;00m\u001b[38;5;124m and age is \u001b[39m\u001b[38;5;132;01m{}\u001b[39;00m\u001b[38;5;124m'\u001b[39m\u001b[38;5;241m.\u001b[39mformat(name,age))\n\u001b[1;32m----> 3\u001b[0m \u001b[43mhellow\u001b[49m\u001b[43m(\u001b[49m\u001b[38;5;124;43m'\u001b[39;49m\u001b[38;5;124;43mAli\u001b[39;49m\u001b[38;5;124;43m'\u001b[39;49m\u001b[43m)\u001b[49m\n",
      "\u001b[1;31mTypeError\u001b[0m: hellow() missing 1 required positional argument: 'age'"
     ]
    }
   ],
   "source": [
    "def hellow(name,age):   # now both are positional arguments\n",
    "    print('My name is {} and age is {}'.format(name,age))\n",
    "hellow('Ali')"
   ]
  },
  {
   "cell_type": "code",
   "execution_count": 32,
   "id": "ae6e37ab",
   "metadata": {},
   "outputs": [
    {
     "data": {
      "text/plain": [
       "<function __main__.hello(*args, **kwargs)>"
      ]
     },
     "execution_count": 32,
     "metadata": {},
     "output_type": "execute_result"
    }
   ],
   "source": [
    "def hello(*args,**kwargs):\n",
    "    print(args)\n",
    "    print(kwargs)\n",
    "hello   \n",
    "    "
   ]
  },
  {
   "cell_type": "code",
   "execution_count": 33,
   "id": "df1a257f",
   "metadata": {},
   "outputs": [
    {
     "name": "stdout",
     "output_type": "stream",
     "text": [
      "()\n",
      "{}\n"
     ]
    }
   ],
   "source": [
    "def hello(*args,**kwargs):\n",
    "    print(args)\n",
    "    print(kwargs)\n",
    "hello() "
   ]
  },
  {
   "cell_type": "code",
   "execution_count": 35,
   "id": "02f3f901",
   "metadata": {},
   "outputs": [
    {
     "name": "stdout",
     "output_type": "stream",
     "text": [
      "('Ali',)\n",
      "{}\n"
     ]
    }
   ],
   "source": [
    "def hello(*args,**kwargs):\n",
    "    print(args)\n",
    "    print(kwargs)\n",
    "hello('Ali')"
   ]
  },
  {
   "cell_type": "code",
   "execution_count": 36,
   "id": "e6db886a",
   "metadata": {},
   "outputs": [
    {
     "name": "stdout",
     "output_type": "stream",
     "text": [
      "('Ali', 'Akbar')\n",
      "{}\n"
     ]
    }
   ],
   "source": [
    "def hello(*args,**kwargs):\n",
    "    print(args)\n",
    "    print(kwargs)\n",
    "hello('Ali', 'Akbar')"
   ]
  },
  {
   "cell_type": "code",
   "execution_count": 37,
   "id": "e760c0b9",
   "metadata": {},
   "outputs": [
    {
     "name": "stdout",
     "output_type": "stream",
     "text": [
      "('Ali', 'Akbar')\n",
      "{'age': 29}\n"
     ]
    }
   ],
   "source": [
    "def hello(*args,**kwargs):\n",
    "    print(args)\n",
    "    print(kwargs)\n",
    "hello('Ali', 'Akbar',age=29)"
   ]
  },
  {
   "cell_type": "code",
   "execution_count": 38,
   "id": "b853e27a",
   "metadata": {},
   "outputs": [
    {
     "name": "stdout",
     "output_type": "stream",
     "text": [
      "('Ali', 'Akbar')\n",
      "{'age': 29, 'dob': 1990}\n"
     ]
    }
   ],
   "source": [
    "def hello(*args,**kwargs):\n",
    "    print(args)\n",
    "    print(kwargs)\n",
    "hello('Ali', 'Akbar',age=29, dob=1990)"
   ]
  },
  {
   "cell_type": "code",
   "execution_count": 40,
   "id": "4832a5f0",
   "metadata": {},
   "outputs": [
    {
     "name": "stdout",
     "output_type": "stream",
     "text": [
      "('Ali', 'Akbar', 'Aslam', 'Arshad')\n",
      "{'age': 29, 'dob': 1990}\n"
     ]
    }
   ],
   "source": [
    "def hello(*args,**kwargs):\n",
    "    print(args)\n",
    "    print(kwargs)\n",
    "hello('Ali', 'Akbar','Aslam', 'Arshad',age=29, dob=1990)"
   ]
  },
  {
   "cell_type": "code",
   "execution_count": 45,
   "id": "fcaf843e",
   "metadata": {},
   "outputs": [
    {
     "name": "stdout",
     "output_type": "stream",
     "text": [
      "('Ali', 'Akbar', 'Aslam', 'Arshad')\n",
      "{'age': 29, 'dob': 1990, 'doc': 14, 'abc': 44}\n"
     ]
    }
   ],
   "source": [
    "def hello(*args,**kwargs):\n",
    "    print(args)\n",
    "    print(kwargs)\n",
    "hello('Ali', 'Akbar','Aslam', 'Arshad',age=29, dob=1990, doc=14, abc=44)"
   ]
  },
  {
   "cell_type": "code",
   "execution_count": 47,
   "id": "aae954a8",
   "metadata": {},
   "outputs": [],
   "source": [
    "lst=['Ali', 'Akbar']\n",
    "dict_args={'age':29, 'dob':1990}"
   ]
  },
  {
   "cell_type": "code",
   "execution_count": 48,
   "id": "23b8e420",
   "metadata": {},
   "outputs": [
    {
     "name": "stdout",
     "output_type": "stream",
     "text": [
      "()\n",
      "{}\n"
     ]
    }
   ],
   "source": [
    "hello()"
   ]
  },
  {
   "cell_type": "code",
   "execution_count": 52,
   "id": "5d492b9d",
   "metadata": {},
   "outputs": [
    {
     "name": "stdout",
     "output_type": "stream",
     "text": [
      "(['Ali', 'Akbar'],)\n",
      "{}\n"
     ]
    }
   ],
   "source": [
    "hello(lst)"
   ]
  },
  {
   "cell_type": "code",
   "execution_count": 53,
   "id": "c204ad94",
   "metadata": {},
   "outputs": [
    {
     "name": "stdout",
     "output_type": "stream",
     "text": [
      "(['Ali', 'Akbar'], {'age': 29, 'dob': 1990})\n",
      "{}\n"
     ]
    }
   ],
   "source": [
    "hello(lst,dict_args)"
   ]
  },
  {
   "cell_type": "code",
   "execution_count": 54,
   "id": "9920d29a",
   "metadata": {},
   "outputs": [
    {
     "name": "stdout",
     "output_type": "stream",
     "text": [
      "('Ali', 'Akbar')\n",
      "{'age': 29, 'dob': 1990}\n"
     ]
    }
   ],
   "source": [
    "hello(*lst,**dict_args)"
   ]
  },
  {
   "cell_type": "code",
   "execution_count": 56,
   "id": "b022e228",
   "metadata": {},
   "outputs": [],
   "source": [
    "list=[1,2,3,4,5,6,7,8,9]\n",
    "\n",
    "def evenoddsum(list):\n",
    "    even_sum=0\n",
    "    odd_sum=0\n",
    "    for i in list:\n",
    "        if i%2==0:\n",
    "            even_sum=even_sum+i\n",
    "        else:\n",
    "            odd_sum=odd_sum+i\n",
    "    return even_sum,odd_sum\n",
    "        "
   ]
  },
  {
   "cell_type": "code",
   "execution_count": 57,
   "id": "8f3bb10e",
   "metadata": {},
   "outputs": [
    {
     "data": {
      "text/plain": [
       "(20, 25)"
      ]
     },
     "execution_count": 57,
     "metadata": {},
     "output_type": "execute_result"
    }
   ],
   "source": [
    "evenoddsum(list)"
   ]
  },
  {
   "cell_type": "code",
   "execution_count": null,
   "id": "fa7a0fab",
   "metadata": {},
   "outputs": [],
   "source": []
  }
 ],
 "metadata": {
  "kernelspec": {
   "display_name": "Python 3 (ipykernel)",
   "language": "python",
   "name": "python3"
  },
  "language_info": {
   "codemirror_mode": {
    "name": "ipython",
    "version": 3
   },
   "file_extension": ".py",
   "mimetype": "text/x-python",
   "name": "python",
   "nbconvert_exporter": "python",
   "pygments_lexer": "ipython3",
   "version": "3.9.12"
  }
 },
 "nbformat": 4,
 "nbformat_minor": 5
}
