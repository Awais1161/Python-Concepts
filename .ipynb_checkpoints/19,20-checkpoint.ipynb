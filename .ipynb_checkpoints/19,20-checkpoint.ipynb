{
 "cells": [
  {
   "cell_type": "markdown",
   "id": "9f47ffbb",
   "metadata": {},
   "source": [
    "# List Comprehension"
   ]
  },
  {
   "cell_type": "code",
   "execution_count": 4,
   "id": "19021ae5",
   "metadata": {},
   "outputs": [
    {
     "data": {
      "text/plain": [
       "[1, 4, 9, 16, 25]"
      ]
     },
     "execution_count": 4,
     "metadata": {},
     "output_type": "execute_result"
    }
   ],
   "source": [
    "lst1=[]\n",
    "def lst_square(lst):\n",
    "    for i in lst:\n",
    "        lst1.append(i*i)\n",
    "    return lst1\n",
    "lst_square([1,2,3,4,5])"
   ]
  },
  {
   "cell_type": "code",
   "execution_count": 8,
   "id": "e68ab553",
   "metadata": {},
   "outputs": [
    {
     "data": {
      "text/plain": [
       "[1, 4, 9, 16, 25]"
      ]
     },
     "execution_count": 8,
     "metadata": {},
     "output_type": "execute_result"
    }
   ],
   "source": [
    "[i*i for i in [1,2,3,4,5]]"
   ]
  },
  {
   "cell_type": "code",
   "execution_count": 9,
   "id": "b856d624",
   "metadata": {},
   "outputs": [
    {
     "data": {
      "text/plain": [
       "[4, 16]"
      ]
     },
     "execution_count": 9,
     "metadata": {},
     "output_type": "execute_result"
    }
   ],
   "source": [
    "[i*i for i in [1,2,3,4,5] if i%2==0]"
   ]
  },
  {
   "cell_type": "code",
   "execution_count": 10,
   "id": "bc5e7c09",
   "metadata": {},
   "outputs": [
    {
     "data": {
      "text/plain": [
       "[1, 9, 25]"
      ]
     },
     "execution_count": 10,
     "metadata": {},
     "output_type": "execute_result"
    }
   ],
   "source": [
    "[i*i for i in [1,2,3,4,5] if i%2!=0]"
   ]
  },
  {
   "cell_type": "markdown",
   "id": "7cc4d807",
   "metadata": {},
   "source": [
    "# String Formatting"
   ]
  },
  {
   "cell_type": "code",
   "execution_count": 15,
   "id": "8694e3e5",
   "metadata": {},
   "outputs": [
    {
     "data": {
      "text/plain": [
       "'hellow all welcome to my channel'"
      ]
     },
     "execution_count": 15,
     "metadata": {},
     "output_type": "execute_result"
    }
   ],
   "source": [
    "def greetings(name):\n",
    "    return 'hellow {} welcome to my channel'.format(name)\n",
    "greetings('all')"
   ]
  },
  {
   "cell_type": "code",
   "execution_count": 18,
   "id": "3b07470b",
   "metadata": {},
   "outputs": [
    {
     "data": {
      "text/plain": [
       "'my name is Ali and my age is 25'"
      ]
     },
     "execution_count": 18,
     "metadata": {},
     "output_type": "execute_result"
    }
   ],
   "source": [
    "def info(name,age):\n",
    "    return 'my name is {} and my age is {}'.format(name,age)\n",
    "info('Ali',25)"
   ]
  },
  {
   "cell_type": "code",
   "execution_count": 19,
   "id": "72fed6f1",
   "metadata": {},
   "outputs": [
    {
     "data": {
      "text/plain": [
       "'my name is 25 and my age is Ali'"
      ]
     },
     "execution_count": 19,
     "metadata": {},
     "output_type": "execute_result"
    }
   ],
   "source": [
    "def info(name,age):\n",
    "    return 'my name is {} and my age is {}'.format(age,name)\n",
    "info('Ali',25)"
   ]
  },
  {
   "cell_type": "code",
   "execution_count": 21,
   "id": "6aea904a",
   "metadata": {},
   "outputs": [
    {
     "data": {
      "text/plain": [
       "'my name is Ali and my age is 25'"
      ]
     },
     "execution_count": 21,
     "metadata": {},
     "output_type": "execute_result"
    }
   ],
   "source": [
    "def info(name,age):\n",
    "    return 'my name is {name} and my age is {age}'.format(age=age,name=name)\n",
    "info('Ali',25)"
   ]
  },
  {
   "cell_type": "code",
   "execution_count": 22,
   "id": "e6742300",
   "metadata": {},
   "outputs": [
    {
     "data": {
      "text/plain": [
       "'my name is 25 and my age is Ali'"
      ]
     },
     "execution_count": 22,
     "metadata": {},
     "output_type": "execute_result"
    }
   ],
   "source": [
    "def info(name,age):\n",
    "    return 'my name is {name} and my age is {age}'.format(age=name,name=age)\n",
    "info('Ali',25)"
   ]
  },
  {
   "cell_type": "code",
   "execution_count": 5,
   "id": "9a0a1e8b",
   "metadata": {},
   "outputs": [
    {
     "data": {
      "text/plain": [
       "'my name is ali and my age is 30'"
      ]
     },
     "execution_count": 5,
     "metadata": {},
     "output_type": "execute_result"
    }
   ],
   "source": [
    "def info(name,age):\n",
    "    return f'my name is {name} and my age is {age}'\n",
    "info('ali',30)"
   ]
  },
  {
   "cell_type": "code",
   "execution_count": null,
   "id": "9b537e56",
   "metadata": {},
   "outputs": [],
   "source": []
  },
  {
   "cell_type": "code",
   "execution_count": null,
   "id": "c32030f6",
   "metadata": {},
   "outputs": [],
   "source": []
  },
  {
   "cell_type": "code",
   "execution_count": null,
   "id": "8ed67760",
   "metadata": {},
   "outputs": [],
   "source": []
  },
  {
   "cell_type": "code",
   "execution_count": null,
   "id": "739f500a",
   "metadata": {},
   "outputs": [],
   "source": []
  }
 ],
 "metadata": {
  "kernelspec": {
   "display_name": "Python 3 (ipykernel)",
   "language": "python",
   "name": "python3"
  },
  "language_info": {
   "codemirror_mode": {
    "name": "ipython",
    "version": 3
   },
   "file_extension": ".py",
   "mimetype": "text/x-python",
   "name": "python",
   "nbconvert_exporter": "python",
   "pygments_lexer": "ipython3",
   "version": "3.9.12"
  }
 },
 "nbformat": 4,
 "nbformat_minor": 5
}
