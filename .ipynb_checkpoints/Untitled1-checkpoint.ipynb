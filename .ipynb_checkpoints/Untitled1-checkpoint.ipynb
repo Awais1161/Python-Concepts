{
 "cells": [
  {
   "cell_type": "code",
   "execution_count": 1,
   "id": "2b3a4a73",
   "metadata": {},
   "outputs": [],
   "source": [
    "from datetime import datetime\n",
    "from playsound import playsound"
   ]
  },
  {
   "cell_type": "code",
   "execution_count": 19,
   "id": "306323e9",
   "metadata": {},
   "outputs": [
    {
     "name": "stdout",
     "output_type": "stream",
     "text": [
      "Collecting playsound\n",
      "  Downloading playsound-1.3.0.tar.gz (7.7 kB)\n",
      "Building wheels for collected packages: playsound\n",
      "  Building wheel for playsound (setup.py): started\n",
      "  Building wheel for playsound (setup.py): finished with status 'done'\n",
      "  Created wheel for playsound: filename=playsound-1.3.0-py3-none-any.whl size=7035 sha256=748a873107d69d8593db2ded358b9d15bb39e812477117361a9f18619c534268\n",
      "  Stored in directory: c:\\users\\awais\\appdata\\local\\pip\\cache\\wheels\\ba\\39\\54\\c8f7ff9a88a644d3c58b4dec802d90b79a2e0fb2a6b884bf82\n",
      "Successfully built playsound\n",
      "Installing collected packages: playsound\n",
      "Successfully installed playsound-1.3.0\n"
     ]
    }
   ],
   "source": [
    "!pip install playsound"
   ]
  },
  {
   "cell_type": "code",
   "execution_count": null,
   "id": "57352ba1",
   "metadata": {},
   "outputs": [],
   "source": [
    "alarm_time=input('Enter the time of alarm to be set: HH:MM:SS\\n')\n",
    "alaram_hour=alaram_time[0:2]\n",
    "alaram_minute=alaram_time[3:5]\n",
    "alaram_seconds=alaram_time[6:8]\n",
    "alaram_period=alaram_time[9:11].upper()\n",
    "print('setting up alaram..')\n",
    "while True:\n",
    "    now=datetime.now()\n",
    "    current_hour=now.strftime('%I')\n",
    "    current_minute=now.strftime('%M')\n",
    "    current_seconds=now.strftime('%S')\n",
    "    current_period=now.strftime('%P')\n",
    "    if (alaram_period==current_period):\n",
    "        if (alaram_hour==current_hour):\n",
    "            if (alaram_minute==current_minute):\n",
    "                if (alaram_seconds==current_seconds):\n",
    "                    print('Wake Up!')\n",
    "                    playsound('audio.mp3')\n",
    "                    break"
   ]
  },
  {
   "cell_type": "code",
   "execution_count": null,
   "id": "51cd2861",
   "metadata": {},
   "outputs": [],
   "source": []
  },
  {
   "cell_type": "code",
   "execution_count": null,
   "id": "ca8a07ca",
   "metadata": {},
   "outputs": [],
   "source": []
  },
  {
   "cell_type": "code",
   "execution_count": null,
   "id": "6822a07c",
   "metadata": {},
   "outputs": [],
   "source": []
  },
  {
   "cell_type": "code",
   "execution_count": null,
   "id": "ac5f9aaf",
   "metadata": {},
   "outputs": [],
   "source": []
  },
  {
   "cell_type": "code",
   "execution_count": null,
   "id": "a0903f23",
   "metadata": {},
   "outputs": [],
   "source": []
  }
 ],
 "metadata": {
  "kernelspec": {
   "display_name": "Python 3 (ipykernel)",
   "language": "python",
   "name": "python3"
  },
  "language_info": {
   "codemirror_mode": {
    "name": "ipython",
    "version": 3
   },
   "file_extension": ".py",
   "mimetype": "text/x-python",
   "name": "python",
   "nbconvert_exporter": "python",
   "pygments_lexer": "ipython3",
   "version": "3.9.12"
  }
 },
 "nbformat": 4,
 "nbformat_minor": 5
}
