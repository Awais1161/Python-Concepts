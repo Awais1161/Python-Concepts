{
 "cells": [
  {
   "cell_type": "markdown",
   "id": "112194a9",
   "metadata": {},
   "source": [
    "# Logging Implementation in Python"
   ]
  },
  {
   "cell_type": "code",
   "execution_count": 2,
   "id": "77829f0f",
   "metadata": {},
   "outputs": [],
   "source": [
    "import logging"
   ]
  },
  {
   "cell_type": "code",
   "execution_count": 6,
   "id": "c65f4f5b",
   "metadata": {},
   "outputs": [
    {
     "ename": "SyntaxError",
     "evalue": "invalid syntax (1121347580.py, line 1)",
     "output_type": "error",
     "traceback": [
      "\u001b[1;36m  Input \u001b[1;32mIn [6]\u001b[1;36m\u001b[0m\n\u001b[1;33m    logging.basicConfig(filename='Awais.txt',filemode='a',format='%(asctime)s' %(levelname)s-%(message)s',\u001b[0m\n\u001b[1;37m                                                                                           ^\u001b[0m\n\u001b[1;31mSyntaxError\u001b[0m\u001b[1;31m:\u001b[0m invalid syntax\n"
     ]
    }
   ],
   "source": [
    "logging.basicConfig(filename='Awais.txt',filemode='a',format='%(asctime)s' %(levelname)s-%(message)s',\n",
    "                   datefmt='%Y-%m-%d %H:%M:%S')\n",
    "for i in range(0,15):\n",
    "    if (i%2==0):\n",
    "        logging.warning('Log warning message')\n",
    "    elif (i%3==0):\n",
    "        logging.critical('Log Critical message')\n",
    "    else:\n",
    "        logging.error('Log error message') \n",
    "    "
   ]
  },
  {
   "cell_type": "code",
   "execution_count": null,
   "id": "200fdbc1",
   "metadata": {},
   "outputs": [],
   "source": [
    "logging.basicConfig(filename='Awais.txt',filemode='a',format='%(asctime)s' %(levelname)s-%(message)s',\n",
    "                   datefmt='%Y-%m-%d %H:%M:%S')\n",
    "i=10\n",
    "try:\n",
    "    i=i/0\n",
    "except:\n",
    "    logging.error('Division by 0 Error')"
   ]
  },
  {
   "cell_type": "code",
   "execution_count": null,
   "id": "b12cb92f",
   "metadata": {},
   "outputs": [],
   "source": []
  },
  {
   "cell_type": "code",
   "execution_count": null,
   "id": "69b40e5f",
   "metadata": {},
   "outputs": [],
   "source": []
  },
  {
   "cell_type": "code",
   "execution_count": null,
   "id": "e5c5b886",
   "metadata": {},
   "outputs": [],
   "source": []
  },
  {
   "cell_type": "code",
   "execution_count": null,
   "id": "06e03567",
   "metadata": {},
   "outputs": [],
   "source": []
  },
  {
   "cell_type": "code",
   "execution_count": null,
   "id": "b7b8695d",
   "metadata": {},
   "outputs": [],
   "source": []
  },
  {
   "cell_type": "code",
   "execution_count": null,
   "id": "12285b90",
   "metadata": {},
   "outputs": [],
   "source": []
  }
 ],
 "metadata": {
  "kernelspec": {
   "display_name": "Python 3 (ipykernel)",
   "language": "python",
   "name": "python3"
  },
  "language_info": {
   "codemirror_mode": {
    "name": "ipython",
    "version": 3
   },
   "file_extension": ".py",
   "mimetype": "text/x-python",
   "name": "python",
   "nbconvert_exporter": "python",
   "pygments_lexer": "ipython3",
   "version": "3.9.12"
  }
 },
 "nbformat": 4,
 "nbformat_minor": 5
}
