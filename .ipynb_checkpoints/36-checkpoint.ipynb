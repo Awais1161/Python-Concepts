{
 "cells": [
  {
   "cell_type": "markdown",
   "id": "dfd74cb2",
   "metadata": {},
   "source": [
    "# Static Methods"
   ]
  },
  {
   "cell_type": "code",
   "execution_count": 20,
   "id": "4c90f2fe",
   "metadata": {},
   "outputs": [],
   "source": [
    "import datetime\n",
    "now=datetime.datetime.now()"
   ]
  },
  {
   "cell_type": "code",
   "execution_count": 21,
   "id": "d01f7435",
   "metadata": {},
   "outputs": [
    {
     "data": {
      "text/plain": [
       "datetime.datetime(2022, 10, 22, 21, 49, 50, 868631)"
      ]
     },
     "execution_count": 21,
     "metadata": {},
     "output_type": "execute_result"
    }
   ],
   "source": [
    "now"
   ]
  },
  {
   "cell_type": "code",
   "execution_count": 10,
   "id": "530a42a7",
   "metadata": {},
   "outputs": [
    {
     "data": {
      "text/plain": [
       "2022"
      ]
     },
     "execution_count": 10,
     "metadata": {},
     "output_type": "execute_result"
    }
   ],
   "source": [
    "now.year"
   ]
  },
  {
   "cell_type": "code",
   "execution_count": 11,
   "id": "34f9c3b6",
   "metadata": {},
   "outputs": [
    {
     "data": {
      "text/plain": [
       "int"
      ]
     },
     "execution_count": 11,
     "metadata": {},
     "output_type": "execute_result"
    }
   ],
   "source": [
    "type(now.year)"
   ]
  },
  {
   "cell_type": "code",
   "execution_count": 12,
   "id": "71d56953",
   "metadata": {},
   "outputs": [],
   "source": [
    "class Car:\n",
    "    base_price=100000 ## class variable\n",
    "    def __init__(self,windows,doors,power):\n",
    "        self.windoes=windows\n",
    "        self.doors=doors\n",
    "        self.power=power\n",
    "    def what_base_price(self):\n",
    "        print('The base price is {} '.format(self.base_price))\n",
    "    @classmethod\n",
    "    def revise_base_price(cls,inflation):\n",
    "        cls.base_price= cls.base_price+ cls.base_price*inflation\n",
    "    @staticmethod\n",
    "    def check_year():\n",
    "        if now.year==2022:\n",
    "            return True\n",
    "        else:\n",
    "            return Fasle"
   ]
  },
  {
   "cell_type": "code",
   "execution_count": 13,
   "id": "91bc283e",
   "metadata": {},
   "outputs": [
    {
     "data": {
      "text/plain": [
       "True"
      ]
     },
     "execution_count": 13,
     "metadata": {},
     "output_type": "execute_result"
    }
   ],
   "source": [
    "Car.check_year()"
   ]
  },
  {
   "cell_type": "code",
   "execution_count": 15,
   "id": "f09e76ce",
   "metadata": {},
   "outputs": [
    {
     "data": {
      "text/plain": [
       "True"
      ]
     },
     "execution_count": 15,
     "metadata": {},
     "output_type": "execute_result"
    }
   ],
   "source": [
    "car1=Car(4,5,2000)\n",
    "car1.check_year()"
   ]
  },
  {
   "cell_type": "code",
   "execution_count": 17,
   "id": "13d6f6b5",
   "metadata": {},
   "outputs": [
    {
     "data": {
      "text/plain": [
       "100000"
      ]
     },
     "execution_count": 17,
     "metadata": {},
     "output_type": "execute_result"
    }
   ],
   "source": [
    "if(car1.check_year()):\n",
    "    pass\n",
    "else:\n",
    "    Car.revise_base_price()\n",
    "car1.base_price"
   ]
  },
  {
   "cell_type": "code",
   "execution_count": null,
   "id": "5b854186",
   "metadata": {},
   "outputs": [],
   "source": []
  },
  {
   "cell_type": "code",
   "execution_count": null,
   "id": "9135fc7b",
   "metadata": {},
   "outputs": [],
   "source": []
  },
  {
   "cell_type": "code",
   "execution_count": null,
   "id": "0298786f",
   "metadata": {},
   "outputs": [],
   "source": []
  },
  {
   "cell_type": "code",
   "execution_count": null,
   "id": "941d520e",
   "metadata": {},
   "outputs": [],
   "source": []
  },
  {
   "cell_type": "code",
   "execution_count": null,
   "id": "bc7af0e8",
   "metadata": {},
   "outputs": [],
   "source": []
  }
 ],
 "metadata": {
  "kernelspec": {
   "display_name": "Python 3 (ipykernel)",
   "language": "python",
   "name": "python3"
  },
  "language_info": {
   "codemirror_mode": {
    "name": "ipython",
    "version": 3
   },
   "file_extension": ".py",
   "mimetype": "text/x-python",
   "name": "python",
   "nbconvert_exporter": "python",
   "pygments_lexer": "ipython3",
   "version": "3.9.12"
  }
 },
 "nbformat": 4,
 "nbformat_minor": 5
}
